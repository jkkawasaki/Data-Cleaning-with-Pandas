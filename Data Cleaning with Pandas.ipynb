{
 "cells": [
  {
   "cell_type": "code",
   "execution_count": 1,
   "id": "82876eba-31d2-4c00-a1dd-ea6346b2af4d",
   "metadata": {},
   "outputs": [],
   "source": [
    "# -*- coding: utf-8 -*-\n",
    "\n",
    "#%% Libraries\n",
    "import pandas as pd\n",
    "import matplotlib.pyplot as plt\n",
    "import numpy as np\n",
    "\n",
    "#%% Importing Data\n",
    "flights_data = pd.read_csv('flights.csv')\n",
    "flights_data.head(10)\n",
    "weather_data_pd = pd.read_csv('weather.csv')\n",
    "weather_data_np = weather_data_pd.to_numpy()"
   ]
  },
  {
   "cell_type": "code",
   "execution_count": 2,
   "id": "c447b6d5-b8b0-4ea6-952d-95d0fb357112",
   "metadata": {},
   "outputs": [
    {
     "name": "stdout",
     "output_type": "stream",
     "text": [
      "q_1: There were 2113 flights from JFK to SLC.\n"
     ]
    }
   ],
   "source": [
    "#%% Pandas Data Filtering/Sorting Question Answering\n",
    "#use flights_data\n",
    "#Question 1 How many flights were there from JFK to SLC? Int\n",
    "\n",
    "mask = (flights_data['origin'] == 'JFK') & (flights_data['dest'] == 'SLC')\n",
    "JFK_SLC = flights_data[mask]\n",
    "q_1 = len(JFK_SLC)\n",
    "print('q_1: There were' , q_1 , 'flights from JFK to SLC.')"
   ]
  },
  {
   "cell_type": "code",
   "execution_count": 3,
   "id": "b03dcd54-5b44-42cc-9dfa-2d4676712f26",
   "metadata": {},
   "outputs": [
    {
     "name": "stdout",
     "output_type": "stream",
     "text": [
      "q_2: 2 airlines fly to SLC.\n"
     ]
    }
   ],
   "source": [
    "#Question 2 How many airlines fly to SLC? Should be int\n",
    "\n",
    "mask = (flights_data['dest'] == 'SLC') & (flights_data['carrier'].notnull())\n",
    "SLC_airlines = flights_data[mask]\n",
    "q_2 = SLC_airlines['carrier'].nunique()\n",
    "print('q_2:' , q_2 , 'airlines fly to SLC.')"
   ]
  },
  {
   "cell_type": "code",
   "execution_count": 4,
   "id": "5b58a81b-cd3f-4048-9768-10a785d260bc",
   "metadata": {},
   "outputs": [
    {
     "name": "stdout",
     "output_type": "stream",
     "text": [
      "q_3: The average arrival delay for flights to RDU is 10.052380952380952 minutes.\n"
     ]
    }
   ],
   "source": [
    "#Question 3 What is the average arrival delay for flights to RDU? float\n",
    "\n",
    "mask = (flights_data['dest'] == 'RDU')\n",
    "RDU_flights = flights_data[mask]\n",
    "q_3 = RDU_flights['arr_delay'].mean()\n",
    "print(\"q_3: The average arrival delay for flights to RDU is\" , q_3 , \"minutes.\")"
   ]
  },
  {
   "cell_type": "code",
   "execution_count": 5,
   "id": "e8334108-2ab1-489a-9f3e-aae7a16bede0",
   "metadata": {},
   "outputs": [
    {
     "name": "stdout",
     "output_type": "stream",
     "text": [
      "q_4: The proportion of flights from LGA and JFK to SEA is 0.5332653581442773\n"
     ]
    }
   ],
   "source": [
    "#Question 4 What proportion of flights to SEA come from the two NYC airports (LGA and JFK)?  float\n",
    "mask = (flights_data['dest'] == 'SEA')\n",
    "SEA_flights_df = flights_data[mask]\n",
    "fromNYC = SEA_flights_df[SEA_flights_df['origin'].isin(['LGA' , 'JFK'])].shape[0]\n",
    "total_SEA_flights = SEA_flights_df.shape[0]\n",
    "q_4 = fromNYC / total_SEA_flights if total_SEA_flights > 0 else 0\n",
    "print(\"q_4: The proportion of flights from LGA and JFK to SEA is\" , q_4)"
   ]
  },
  {
   "cell_type": "code",
   "execution_count": 6,
   "id": "2ff45e33-81c2-4f27-8709-4766ec242e7f",
   "metadata": {},
   "outputs": [
    {
     "name": "stdout",
     "output_type": "stream",
     "text": [
      "q_5: The date with the largest average departure delay was 2013/3/8 with an average of 83.5369211514393 minutes (YYYY/MM/DD).\n"
     ]
    }
   ],
   "source": [
    "#Question 5 Which date has the largest average depature delay? Pd slice with date and float\n",
    "#please make date a column. Preferred format is 2013/1/1 (y/m/d)\n",
    "\n",
    "flights_data['date'] = flights_data['year'].astype(str) + '/' + flights_data['month'].astype(str) + '/' + flights_data['day'].astype(str)\n",
    "avg_dep_delay_by_date = flights_data.groupby('date')['dep_delay'].mean()\n",
    "q_5 = avg_dep_delay_by_date.idxmax()\n",
    "max_dep_delay = avg_dep_delay_by_date.max()\n",
    "print(\"q_5: The date with the largest average departure delay was\" , q_5 , \"with an average of\" , max_dep_delay , \"minutes (YYYY/MM/DD).\")"
   ]
  },
  {
   "cell_type": "code",
   "execution_count": 7,
   "id": "c31924db-4b57-4632-b84e-23c010c9b339",
   "metadata": {},
   "outputs": [
    {
     "name": "stdout",
     "output_type": "stream",
     "text": [
      "q_6: The date with the largest average arrival delay was 2013/3/8 with an average of 85.86215538847118 minutes (YYYY/MM/DD).\n"
     ]
    }
   ],
   "source": [
    "#Question 6 Which date has the largest average arrival delay? pd slice with date and float\n",
    "\n",
    "avg_arr_delay_by_date = flights_data.groupby('date')['arr_delay'].mean()\n",
    "q_6 = avg_arr_delay_by_date.idxmax()\n",
    "max_arr_delay = avg_arr_delay_by_date.max()\n",
    "print(\"q_6: The date with the largest average arrival delay was\" , q_6 , \"with an average of\" , max_arr_delay , \"minutes (YYYY/MM/DD).\")"
   ]
  },
  {
   "cell_type": "code",
   "execution_count": 8,
   "id": "5a63c639-9367-451a-8e73-802956825a5b",
   "metadata": {},
   "outputs": [
    {
     "name": "stdout",
     "output_type": "stream",
     "text": [
      "q_7:\n",
      "        tailnum      speed\n",
      "216447  N666DN  11.723077\n"
     ]
    }
   ],
   "source": [
    "###### Question 7 Which flight departing LGA or JFK in 2013 flew the fastest? pd slice with tailnumber and speed\n",
    "#speed = distance/airtime\n",
    "\n",
    "mask = (flights_data['year'] == 2013) & ((flights_data['origin'] == 'LGA') | (flights_data['origin'] == 'JFK'))\n",
    "depart_lga_jfk_df = flights_data[mask]\n",
    "depart_lga_jfk_df = depart_lga_jfk_df.assign(speed=depart_lga_jfk_df['distance'] / depart_lga_jfk_df['air_time'])\n",
    "q_7 = depart_lga_jfk_df[['tailnum' , 'speed']].sort_values(by='speed' , ascending=False).head(1)\n",
    "print(\"q_7:\\n\" , q_7)"
   ]
  },
  {
   "cell_type": "code",
   "execution_count": 9,
   "id": "53b04c83-461a-4e86-840b-aa998f6529b8",
   "metadata": {},
   "outputs": [
    {
     "name": "stdout",
     "output_type": "stream",
     "text": [
      "q_8\n",
      "    Unnamed: 0 origin  year  month  day  hour   temp   dewp  humid  wind_dir  \\\n",
      "0           1    EWR  2013    1.0  1.0   0.0  37.04  21.92  53.97     230.0   \n",
      "1           2    EWR  2013    1.0  1.0   1.0  37.04  21.92  53.97     230.0   \n",
      "2           3    EWR  2013    1.0  1.0   2.0  37.94  21.92  52.09     230.0   \n",
      "3           4    EWR  2013    1.0  1.0   3.0  37.94  23.00  54.51     230.0   \n",
      "4           5    EWR  2013    1.0  1.0   4.0  37.94  24.08  57.04     240.0   \n",
      "\n",
      "   wind_speed  wind_gust  precip  pressure  visib  \n",
      "0    10.35702  11.918651     0.0    1013.9   10.0  \n",
      "1    13.80936  15.891535     0.0    1013.0   10.0  \n",
      "2    12.65858  14.567241     0.0    1012.6   10.0  \n",
      "3    13.80936  15.891535     0.0    1012.7   10.0  \n",
      "4    14.96014  17.215830     0.0    1012.8   10.0  \n"
     ]
    }
   ],
   "source": [
    "#Question 8 Replace all nans in the weather pd dataframe with 0s. Pd with no nans\n",
    "weather_data_pd.fillna(0 , inplace = True)\n",
    "q_8 = weather_data_pd\n",
    "print(\"q_8\\n\" , q_8.head())"
   ]
  },
  {
   "cell_type": "code",
   "execution_count": 10,
   "id": "c4c39211-c9c6-444d-acef-f2de7f741361",
   "metadata": {},
   "outputs": [
    {
     "name": "stdout",
     "output_type": "stream",
     "text": [
      "q_9: 671 observations were made in February.\n"
     ]
    }
   ],
   "source": [
    "#%% Numpy Data Filtering/Sorting Question Answering\n",
    "#Use weather_data_np\n",
    "#Question 9 How many observations were made in Feburary? Int\n",
    "\n",
    "month_col = 3 #Index of month column\n",
    "mask = weather_data_np[:, month_col] == 2 #2 == February\n",
    "q_9 = np.sum(mask)\n",
    "print(\"q_9:\" , q_9 , \"observations were made in February.\")"
   ]
  },
  {
   "cell_type": "code",
   "execution_count": 11,
   "id": "dbc646cf-9245-4ec3-b195-5131107edb8e",
   "metadata": {},
   "outputs": [
    {
     "name": "stdout",
     "output_type": "stream",
     "text": [
      "q_10: The mean for humidty in February was: 62.918152011922515\n"
     ]
    }
   ],
   "source": [
    "#Question 10 What was the mean for humidity in February? Float\n",
    "\n",
    "humidity_col = 8 #Index of humidity column\n",
    "month_col = 3 #Index of month column\n",
    "mask = weather_data_np[:, month_col] == 2 #2 == February\n",
    "feb_data = weather_data_np[mask]\n",
    "\n",
    "q_10 = np.mean(feb_data[:, humidity_col])\n",
    "print(\"q_10: The mean for humidty in February was:\" , q_10)"
   ]
  },
  {
   "cell_type": "code",
   "execution_count": 12,
   "id": "27ac325f-0f08-4276-9220-c06a1a404a26",
   "metadata": {},
   "outputs": [
    {
     "name": "stdout",
     "output_type": "stream",
     "text": [
      "q_11: Standard deviation of humidity in February: 20.33690087674334\n"
     ]
    }
   ],
   "source": [
    "#Question 11 What was the std for humidity in February? Float\n",
    "humidity_col = 8 #Index of humidity column\n",
    "month_col = 3 #Index of month column\n",
    "mask = weather_data_np[:, month_col] == 2 #2 == February\n",
    "feb_data = weather_data_np[mask]\n",
    "\n",
    "q_11 = np.std(feb_data[:, humidity_col])\n",
    "print(\"q_11: Standard deviation of humidity in February:\", q_11)"
   ]
  }
 ],
 "metadata": {
  "kernelspec": {
   "display_name": "Python 3 (ipykernel)",
   "language": "python",
   "name": "python3"
  },
  "language_info": {
   "codemirror_mode": {
    "name": "ipython",
    "version": 3
   },
   "file_extension": ".py",
   "mimetype": "text/x-python",
   "name": "python",
   "nbconvert_exporter": "python",
   "pygments_lexer": "ipython3",
   "version": "3.12.5"
  }
 },
 "nbformat": 4,
 "nbformat_minor": 5
}
